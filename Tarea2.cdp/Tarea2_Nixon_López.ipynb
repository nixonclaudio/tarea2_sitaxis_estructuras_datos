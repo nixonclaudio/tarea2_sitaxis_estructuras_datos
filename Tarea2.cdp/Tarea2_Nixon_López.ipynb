{
 "cells": [
  {
   "cell_type": "markdown",
   "id": "480a2081-8b83-4a5f-9710-757c1efe6e0e",
   "metadata": {},
   "source": [
    "### Universidad Galileo \n",
    "### Postgrado en Análisis y predicción de Datos\n",
    "### Ciencia de Datos en Python\n",
    "### Nixon Armando López Claudio \n",
    "### Hoja de Trabajo #2 - Sintaxis y Estructuras de Datos\n"
   ]
  },
  {
   "cell_type": "code",
   "execution_count": null,
   "id": "b25827f2",
   "metadata": {},
   "outputs": [],
   "source": []
  },
  {
   "cell_type": "markdown",
   "id": "f24ad7e3-5832-4a10-816c-844e4e302ae5",
   "metadata": {},
   "source": [
    "<h1><center> Sintaxis y Estructuras de Datos </center></h1>"
   ]
  },
  {
   "cell_type": "markdown",
   "id": "50e2a8d2-aab4-4964-a849-833ca4736412",
   "metadata": {},
   "source": [
    "<h1><center> Parte #1 - (Programación y Sintaxis) </center></h1>"
   ]
  },
  {
   "cell_type": "markdown",
   "id": "7db9dec9-c11a-447b-8b5d-99a7965e353f",
   "metadata": {
    "jp-MarkdownHeadingCollapsed": true,
    "tags": []
   },
   "source": [
    "A continuación se le muestra una lista de ejercicios que deberá completar utilizando **Python**, debe usar Markdown para indicar donde inicia cada uno de los ejercicios."
   ]
  },
  {
   "cell_type": "markdown",
   "id": "d920cf10-9d99-4b27-8691-1883dc2bf831",
   "metadata": {},
   "source": [
    "<blockquote> 1. Haga un programa en Python que reciba de parámeytro un número de segundos y que despliegue en pantalla, las horas, minutos y segundos que representan. Por ejemplo: <blockquote> \n",
    "\n",
    "- Si el número de segundos recibidos fuera: 2743 entonces su programa debería desplegar:\n",
    "    Horas: 0, Minutos: 45, Segundos: 43\n",
    "- Si el número de segundos recibidos fuera 5871: Horas: 1, Minutos: 37, Segundos: 51\n",
    "    \n",
    "Recuerde manejar excepciones y errores que considere necesarios"
   ]
  },
  {
   "cell_type": "code",
   "execution_count": 1,
   "id": "32d11945-9e4a-4732-92e8-37e9ddc75c4b",
   "metadata": {},
   "outputs": [
    {
     "name": "stdout",
     "output_type": "stream",
     "text": [
      "Ingresar el total de segundos 5871\n",
      "                                                                       Horas: 1, Minutos: 37, Segundos: 51\n"
     ]
    }
   ],
   "source": [
    "segundos = int(input(\"Ingresar el total de segundos \"))\n",
    "horas = segundos // 3600\n",
    "segundos_residuo = segundos % 3600\n",
    "minutos = segundos_residuo // 60\n",
    "segundos_fin = segundos_residuo % 60\n",
    "\n",
    "print(\"  \"*(35),f\"Horas: {horas}, Minutos: {minutos}, Segundos: {segundos_fin}\")\n",
    "\n",
    "\n"
   ]
  },
  {
   "cell_type": "code",
   "execution_count": null,
   "id": "392be33b-f42c-4d4c-ab52-bffb1d54e2f1",
   "metadata": {},
   "outputs": [],
   "source": []
  },
  {
   "cell_type": "markdown",
   "id": "eeb59283-61d9-4f24-a7f0-d10b4f816ee2",
   "metadata": {},
   "source": [
    "<blockquote> 2. Haga una función en Python que dado un número entre 1 y 20. Y un carácter cualquiera despliegue cuatro patrones triangulares <blockquote> \n",
    "    \n",
    "<blockquote> Por ejemplo si el usuario ingresa el número cuatro y el símbolo * el programa deberá desplegar lo siguiente: <blockquote> \n",
    "    \n",
    "    \n",
    "    *       ****     ****      *\n",
    "    **       ***     ***      **\n",
    "    ***       **     **      ***\n",
    "    ****       *     *      ****\n",
    "    "
   ]
  },
  {
   "cell_type": "code",
   "execution_count": 2,
   "id": "0296dfa6-23ca-46d5-b3bf-c3b270223f26",
   "metadata": {},
   "outputs": [],
   "source": [
    "def patrones_triangulares(n,caracter):\n",
    "  for i in range(n):\n",
    "    area = (n-1)-i\n",
    "    print(\"  \"*(35)+ ''*(area) + caracter*(i+1)+ \\\n",
    "          \"     \" + caracter * (area+1) + \"     \" \\\n",
    "          +caracter*(area+1) + \"     \" + ''*(area)+caracter*(i+1))"
   ]
  },
  {
   "cell_type": "code",
   "execution_count": 4,
   "id": "ec639d7d-5adb-4b64-a80a-2f6b26b367ca",
   "metadata": {},
   "outputs": [
    {
     "name": "stdout",
     "output_type": "stream",
     "text": [
      "                                                                      &     &&&&&&&&&&     &&&&&&&&&&     &\n",
      "                                                                      &&     &&&&&&&&&     &&&&&&&&&     &&\n",
      "                                                                      &&&     &&&&&&&&     &&&&&&&&     &&&\n",
      "                                                                      &&&&     &&&&&&&     &&&&&&&     &&&&\n",
      "                                                                      &&&&&     &&&&&&     &&&&&&     &&&&&\n",
      "                                                                      &&&&&&     &&&&&     &&&&&     &&&&&&\n",
      "                                                                      &&&&&&&     &&&&     &&&&     &&&&&&&\n",
      "                                                                      &&&&&&&&     &&&     &&&     &&&&&&&&\n",
      "                                                                      &&&&&&&&&     &&     &&     &&&&&&&&&\n",
      "                                                                      &&&&&&&&&&     &     &     &&&&&&&&&&\n"
     ]
    }
   ],
   "source": [
    "patrones_triangulares(10, \"&\")"
   ]
  },
  {
   "cell_type": "markdown",
   "id": "38a80d7d-2892-4326-ba3a-4b0908151e96",
   "metadata": {},
   "source": [
    "<blockquote> 3. Haga un programa en Python que la fecha de nacimiento de una persona (puede ingresar por separado cada valor, es decir pedir primero día, luego mes y luego año), despliegue la edad de la persona en años, meses y días. Su resultado puede ser aproximado. <blockquote>"
   ]
  },
  {
   "cell_type": "code",
   "execution_count": 5,
   "id": "8c41ba8e-c8cc-4af2-9518-fc9448f57712",
   "metadata": {},
   "outputs": [
    {
     "name": "stdout",
     "output_type": "stream",
     "text": [
      "¿Cuál es tu día de Nacimiento?17\n",
      "¿Cuál es tu mes de Nacimiento?11\n",
      "¿Cuál es tu año de Nacimiento)1993\n",
      "                                                                       Tu edad actual es: 29 años, 4 meses, 2 días, aproximadamente.\n",
      "El programa ha finalizado\n"
     ]
    }
   ],
   "source": [
    "from datetime import date\n",
    "\n",
    "dia = int(input(\"¿Cuál es tu día de Nacimiento?\"))\n",
    "mes = int(input(\"¿Cuál es tu mes de Nacimiento?\"))\n",
    "año = int(input(\"¿Cuál es tu año de Nacimiento)\"))\n",
    "fecha_nacimiento = date(año, mes, dia)\n",
    "fecha_hoy = date.today()\n",
    "\n",
    "resta = fecha_hoy - fecha_nacimiento\n",
    "años_edad = resta.days // 365 #Se asume que todos los años son por 365 días\n",
    "dias_edad_residuo = resta.days % 365\n",
    "meses_edad = dias_edad_residuo // 30 #Se asume que todos los meses son de 30 días\n",
    "dias_edad = dias_edad_residuo % 30\n",
    "# Debido que se asume 365 años para un año y 30 días para un mes, la edad es aproximada en años, meses y días. \n",
    "print(\"  \"*(35),f\"Tu edad actual es: {años_edad} años, {meses_edad} meses, {dias_edad} días, aproximadamente.\")\n",
    "\n",
    "print(\"El programa ha finalizado\")\n"
   ]
  },
  {
   "cell_type": "markdown",
   "id": "d04c953f-0a56-4b31-8717-c9312a58a02a",
   "metadata": {},
   "source": [
    "<blockquote> 4. Escriba una función en Python que dada una tupla de elementos (números o letras) esta se convierta a un string. Tomar nota del siguiente ejemplo: <blockquote>\n",
    "    \n",
    "- Si la entrada fuera: (10,20,40,7,70)\n",
    "- La salida debería ser: 102040770"
   ]
  },
  {
   "cell_type": "code",
   "execution_count": 6,
   "id": "eaa7c560-8c75-4216-888d-daf9a16af6e3",
   "metadata": {},
   "outputs": [
    {
     "name": "stdout",
     "output_type": "stream",
     "text": [
      "                                                                       102030405060708090100\n",
      "El programa ha finalizado\n"
     ]
    }
   ],
   "source": [
    "tupla = (10,20,30,40,50,60,70,80,90,100)\n",
    "\n",
    "def tupla_string(tupla):\n",
    "    tupla_string = map(str, tupla) \n",
    "    return ''.join(tupla_string)\n",
    "    \n",
    "print(\"  \"*(35),tupla_string(tupla))\n",
    "print(\"El programa ha finalizado\")"
   ]
  },
  {
   "cell_type": "code",
   "execution_count": 7,
   "id": "a33bea79-c57d-41bb-847d-bcbd2965c083",
   "metadata": {},
   "outputs": [
    {
     "name": "stdout",
     "output_type": "stream",
     "text": [
      "                                                                       10,20,30,40,50,60,70,80,90,100\n",
      "El programa ha finalizado\n"
     ]
    }
   ],
   "source": [
    "tupla = (10,20,30,40,50,60,70,80,90,100)\n",
    "\n",
    "def tupla_string(tupla):\n",
    "    tupla_string = map(str, tupla) \n",
    "    return ','.join(tupla_string)\n",
    "    \n",
    "print(\"  \"*(35),tupla_string(tupla))\n",
    "print(\"El programa ha finalizado\")"
   ]
  },
  {
   "cell_type": "code",
   "execution_count": 8,
   "id": "af22d9da-44dc-4364-9537-68ba158d4b2c",
   "metadata": {},
   "outputs": [
    {
     "name": "stdout",
     "output_type": "stream",
     "text": [
      "                                                                       10/ 20/ 30/ 40/ 50/ 60/ 70/ 80/ 90/ 100\n",
      "El programa ha finalizado\n"
     ]
    }
   ],
   "source": [
    "tupla = (10,20,30,40,50,60,70,80,90,100)\n",
    "\n",
    "def tupla_string(tupla):\n",
    "    tupla_string = map(str, tupla) \n",
    "    return '/ '.join(tupla_string)\n",
    "    \n",
    "print(\"  \"*(35),tupla_string(tupla))\n",
    "print(\"El programa ha finalizado\")\n"
   ]
  },
  {
   "cell_type": "markdown",
   "id": "65f1f38f-b195-4678-a75e-1a639161fead",
   "metadata": {},
   "source": [
    "<blockquote> 5. Cree un programa en Python que dada una lista de tuplas, elimine las tuplas que están vacías. Tomar nota del siguiente ejemplo: <blockquote>\n",
    "    \n",
    "- Si la lista fuera: [(),(),('X',),('a','b'),('a','b','c'),('d')]\n",
    "- El resultado debería ser: [('X',),('a','b'),('a','b','c'),('d')]"
   ]
  },
  {
   "cell_type": "code",
   "execution_count": 9,
   "id": "60c1380c-ecdd-470b-a621-7deefa613dd7",
   "metadata": {},
   "outputs": [
    {
     "name": "stdout",
     "output_type": "stream",
     "text": [
      "                                                                       [('X',), ('a', 'b', 'c'), 'd']\n",
      "El programa ha finalizado\n"
     ]
    }
   ],
   "source": [
    "lista_tuplas = [(),(),('X',),('a','b','c'),('d')]\n",
    "#se desea eliminar las tuplas vacías ((),())\n",
    "borrar_tuplas = [lista for lista in lista_tuplas if lista]\n",
    "\n",
    "print(\"  \"*(35),borrar_tuplas)\n",
    "print(\"El programa ha finalizado\")"
   ]
  },
  {
   "cell_type": "markdown",
   "id": "a6875bf4-fa22-4fae-96cb-042590b2229a",
   "metadata": {},
   "source": [
    "<blockquote> 6. Cree una función en Python que dada una tupla de tuplas con números, produzca una tupla con el promedio de cada tupla individual. Tomar nota del siguiente ejemplo:  <blockquote>\n",
    "    \n",
    "    \n",
    "- Si la tupla de entrada fuera: ((10, 10, 10, 12), (30, 45, 56, 45), (81, 80, 39, 32))\n",
    "- El resultado debería ser: (10.5, 44, 58)"
   ]
  },
  {
   "cell_type": "code",
   "execution_count": 10,
   "id": "a8d6bdd3-6971-493e-8ac1-3f86cc34fc53",
   "metadata": {},
   "outputs": [
    {
     "name": "stdout",
     "output_type": "stream",
     "text": [
      "                                                                       10.5\n",
      "                                                                       44.0\n",
      "                                                                       58.0\n",
      "El programa ha finalizado\n"
     ]
    }
   ],
   "source": [
    "lista_tuplas_2 = ((10, 10, 10, 12), (30,45,56,45), (81,80,39,32))\n",
    "#es necesario que la resultante sea una lista de tres promedios\n",
    "\n",
    "def media_tuplas(lista_tuplas_2):\n",
    "    for tuplas in lista_tuplas_2:\n",
    "        print(\"  \"*(35),sum(tuplas)/len(tuplas))\n",
    "\n",
    "media_tuplas(lista_tuplas_2)\n",
    "print(\"El programa ha finalizado\")"
   ]
  },
  {
   "cell_type": "code",
   "execution_count": null,
   "id": "5f69e564-ced0-42d2-af25-42594ce3315c",
   "metadata": {},
   "outputs": [],
   "source": []
  },
  {
   "cell_type": "markdown",
   "id": "d8d3e2d4-8142-4b14-82d1-287bfb9d046d",
   "metadata": {},
   "source": [
    "<blockquote> 7. Escribir un programa que gestione las facturas pendientes de cobro de una empresa. Las facturas se almacenarán en un diccionario donde la llave de cada factura será el número de factura (debe utilizar un número de 4 dígitos) y el valor el coste de la factura. El programa debe preguntar al usuario si quiere añadir una nueva factura, pagar una existente o terminar. Si desea añadir una nueva factura se preguntará por el número de factura y su coste y se debe desplegar el diccionario completo. Si desea pagar una factura se preguntará por el número de factura y se eliminará del diccionario. Después de cada operación el programa debe mostrar en pantalla la cantidad cobrada hasta el momento y la cantidad pendiente de cobro. Puede utilizar otras estructuras de datos como apoyo si lo considera necesario. <blockquote>"
   ]
  },
  {
   "cell_type": "code",
   "execution_count": 11,
   "id": "490b6732-a188-497c-b50d-0d00fcf3abe3",
   "metadata": {},
   "outputs": [
    {
     "name": "stdout",
     "output_type": "stream",
     "text": [
      "¿Qué desea hacer? Ingresar su factura (Ingresar), Pagar el monto de su factura (Pagar) o Finalizar su pago (Finalizar): ingresar\n",
      "Coloque el número de correlativo de la factura (4 dígitos): 0001\n",
      "Coloque el precio de la factura: 2350\n",
      "Su factura se ingresó correctamente: {'0001': 2350.0}\n",
      "Cantidad cobrada hasta el momento: 2350.0\n",
      "Cantidad pendiente de cobro: 0.0\n",
      "¿Qué desea hacer? Ingresar su factura (Ingresar), Pagar el monto de su factura (Pagar) o Finalizar su pago (Finalizar): pagar\n",
      "Coloque el número de correlativo de la factura: 0001\n",
      "Su factura 0001 se pagó por un total de: 2350.0\n",
      "Cantidad cobrada hasta el momento: 0\n",
      "Cantidad pendiente de cobro: 0\n",
      "¿Qué desea hacer? Ingresar su factura (Ingresar), Pagar el monto de su factura (Pagar) o Finalizar su pago (Finalizar): finalizar\n",
      "Actividad finalizada.\n"
     ]
    }
   ],
   "source": [
    "ingreso_factura = {}\n",
    "\n",
    "while True:\n",
    "    instruccion = input(\"¿Qué desea hacer? Ingresar su factura (Ingresar), Pagar el monto de su factura (Pagar) o Finalizar su pago (Finalizar): \").upper()\n",
    "\n",
    "    if instruccion == \"INGRESAR\":\n",
    "        correlativo_factura = input(\"Coloque el número de correlativo de la factura (4 dígitos): \")\n",
    "        precio_factura = float(input(\"Coloque el precio de la factura: \"))\n",
    "        if len(correlativo_factura) !=4:\n",
    "            print(\"Debe colocar 4 dígitos.\")\n",
    "        else:\n",
    "            ingreso_factura[correlativo_factura] = precio_factura\n",
    "            print(\"Su factura se ingresó correctamente:\", ingreso_factura)\n",
    "    \n",
    "    elif instruccion == \"PAGAR\":\n",
    "        correlativo_factura = input(\"Coloque el número de correlativo de la factura: \")\n",
    "\n",
    "        if correlativo_factura in ingreso_factura:\n",
    "            total_pagado = ingreso_factura.pop(correlativo_factura)\n",
    "            print(f\"Su factura {correlativo_factura} se pagó por un total de: {total_pagado}\")\n",
    "        else:\n",
    "            print(\"La factura no existe o ya se pagó su total.\")\n",
    "\n",
    "    elif instruccion == \"FINALIZAR\":\n",
    "        print(\"Actividad finalizada.\")\n",
    "        break\n",
    "\n",
    "    else:\n",
    "        print(\"La instrucción ingresada no es válida, intente nuevamente.\")\n",
    "\n",
    "    total_cobrado = sum(ingreso_factura.values())\n",
    "    total_pendiente = total_cobrado - sum(ingreso_factura.values())\n",
    "\n",
    "    print(\"Cantidad cobrada hasta el momento:\", total_cobrado)\n",
    "    print(\"Cantidad pendiente de cobro:\", total_pendiente)\n"
   ]
  },
  {
   "cell_type": "code",
   "execution_count": null,
   "id": "c9eed1ec-8c20-4922-b23c-b18ebc2e1de1",
   "metadata": {},
   "outputs": [],
   "source": []
  },
  {
   "cell_type": "markdown",
   "id": "de390e7b-92ce-4998-b781-eefd4fc876e9",
   "metadata": {},
   "source": [
    "<blockquote> 8. Haga una función en Python, que cree un set con todas las cartas de una baraja de Pocker utilizando el siguiente formato: Tipo-Número. Utilice letras T para tréboles, C para corazones, P para picas y E para espadas. Para los números utilice la numeración del 1 al 13. Por ejemplo E13 - Sería Rey de Espadas, P01 sería As de Picas, T05 sería cinco de Tréboles \n",
    "<blockquote> Posteriormente cree una función que dado el conjunto antarior cree dos sets nuevos de cartas, cada conjunto debe tener una cantidad varibale de elementos, puede utilizar números aleatorios enteros para definir la longitud de los conjuntos \n",
    "Adicionalmente, deberá calcular la probabilidad de la intersección de ambos conjuntos y demuestre si son eventeos independientes con la regla del producto \n",
    "Para concluir, calcule la probabilidad de la unión de ambos conjuntos y demuestre que se cumple con la regla de adición <blockquote>"
   ]
  },
  {
   "cell_type": "code",
   "execution_count": 12,
   "id": "6ca3c2ea-0c11-474e-95be-0a7fefa68a45",
   "metadata": {},
   "outputs": [
    {
     "name": "stdout",
     "output_type": "stream",
     "text": [
      "Mazo de barajas # Uno:\n",
      "{'P06', 'T05', 'T09', 'C04', 'T03', 'P08', 'E03', 'T04', 'C06', 'C013', 'P011', 'C010', 'C09', 'E04', 'C012', 'C08', 'E06', 'P013', 'P010', 'T06', 'T02', 'T013', 'P012', 'C07', 'P02'}\n",
      "Mazo de barajas # Dos:\n",
      "{'P06', 'T09', 'T07', 'C04', 'E013', 'T03', 'E03', 'E08', 'E012', 'T011', 'E01', 'T04', 'C06', 'T08', 'C013', 'P011', 'C010', 'T012', 'C09', 'E04', 'C08', 'C03', 'E06', 'P07', 'C02', 'E09', 'P012', 'C01', 'C05', 'P02'}\n",
      "¿Cuál es la probabilidad de la intersección?: 19.2\n",
      "La intersección de los conjuntos no es un evento independiente (recordar la regla del producto)\n",
      "¿Cuál es la Probabilidad de la unión?: 46.800000000000004\n",
      "La unión de los conjuntos no es un evento independiente (recordar la regla de la adición)\n"
     ]
    },
    {
     "name": "stderr",
     "output_type": "stream",
     "text": [
      "C:\\Users\\nixon\\AppData\\Local\\Temp\\ipykernel_7448\\3953305810.py:17: DeprecationWarning: Sampling from a set deprecated\n",
      "since Python 3.9 and will be removed in a subsequent version.\n",
      "  m_set1 = set(random.sample(b_mazo, len1))\n",
      "C:\\Users\\nixon\\AppData\\Local\\Temp\\ipykernel_7448\\3953305810.py:18: DeprecationWarning: Sampling from a set deprecated\n",
      "since Python 3.9 and will be removed in a subsequent version.\n",
      "  m_set2 = set(random.sample(b_mazo, len2))\n"
     ]
    }
   ],
   "source": [
    "import random\n",
    "def mazo():    # Primer funcion que agrega las iniciales de las figuras de las cartas y el número\n",
    "    first_carta = ['T', 'C', 'P', 'E'] # Tréboles, Corazones, Picas, Espadas\n",
    "    num_cartas = []\n",
    "    for i in range(1,14): #numeración del 1 al 13\n",
    "        num_cartas.append(str(\"0\")+str(i))\n",
    "    b_mazo = set()\n",
    "    for tipo in first_carta: #insertando a cada carta la figura y el número\n",
    "        for numero in num_cartas:\n",
    "            carta = tipo + numero\n",
    "            b_mazo.add(carta)\n",
    "    return b_mazo\n",
    "\n",
    "def set_conjunto_nuevo(baraja_mazo): # conjunto de cartas\n",
    "    len1 = random.randint(1, len(b_mazo)) #longitud de las cartas\n",
    "    len2 = random.randint(1, len(b_mazo)) \n",
    "    m_set1 = set(random.sample(b_mazo, len1))\n",
    "    m_set2 = set(random.sample(b_mazo, len2))\n",
    "    return m_set1, m_set2\n",
    "\n",
    "def probabilidad_interseccion1(m_set1, m_set2):       # Función de la probabilidad de intersección\n",
    "    interseccion = m_set1.intersection(m_set2) \n",
    "    probabilidad = len(interseccion) / len(m_set1) * len(m_set2)\n",
    "    return probabilidad\n",
    "\n",
    "def probabilidad_union1(m_set1, m_set2):        #Función de la probabilidad union\n",
    "    union = m_set1.union(m_set2)  \n",
    "    probabilidad = len(union) / len(m_set1) * len(m_set2)\n",
    "    return probabilidad\n",
    "\n",
    "#Cálculos y resultados de las probabilidades---------------------------------------------\n",
    "\n",
    "b_mazo = mazo()\n",
    "m_set1, m_set2 = set_conjunto_nuevo(b_mazo)\n",
    "print(\"Mazo de barajas # Uno:\")\n",
    "print(m_set1)\n",
    "print(\"Mazo de barajas # Dos:\")\n",
    "print(m_set2)\n",
    "\n",
    "probabilidad_interseccion = probabilidad_interseccion1(m_set1, m_set2)\n",
    "print(f\"¿Cuál es la probabilidad de la intersección?: {probabilidad_interseccion}\")\n",
    "if probabilidad_interseccion == len(m_set1.intersection(m_set2)) / (len(m_set1) * len(m_set2)):\n",
    "    print(\"La intersección de los conjuntos es un evento independiente (recordar la regla del producto)\")\n",
    "else:\n",
    "    print(\"La intersección de los conjuntos no es un evento independiente (recordar la regla del producto)\")\n",
    "\n",
    "probabilidad_union = probabilidad_union1(m_set1, m_set2)\n",
    "print(f\"¿Cuál es la Probabilidad de la unión?: {probabilidad_union}\")\n",
    "if probabilidad_union == len(m_set1.union(m_set2)) / (len(m_set1) * len(m_set2)):\n",
    "    print(\"La unión de los conjuntos es un evento independiente (recordar la regla de la adición))\")\n",
    "else:\n",
    "    print(\"La unión de los conjuntos no es un evento independiente (recordar la regla de la adición)\")"
   ]
  }
 ],
 "metadata": {
  "kernelspec": {
   "display_name": "Python 3 (ipykernel)",
   "language": "python",
   "name": "python3"
  },
  "language_info": {
   "codemirror_mode": {
    "name": "ipython",
    "version": 3
   },
   "file_extension": ".py",
   "mimetype": "text/x-python",
   "name": "python",
   "nbconvert_exporter": "python",
   "pygments_lexer": "ipython3",
   "version": "3.9.13"
  },
  "vscode": {
   "interpreter": {
    "hash": "5238573367df39f7286bb46f9ff5f08f63a01a80960060ce41e3c79b190280fa"
   }
  }
 },
 "nbformat": 4,
 "nbformat_minor": 5
}
